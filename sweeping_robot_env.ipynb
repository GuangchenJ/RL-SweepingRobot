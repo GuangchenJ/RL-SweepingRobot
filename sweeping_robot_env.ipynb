{
 "cells": [
  {
   "cell_type": "markdown",
   "id": "f0f9eec2",
   "metadata": {},
   "source": [
    "我们创建的扫地机器人环境要求如下：\n",
    "\n",
    "- 一共有 5\\*5 = 25 个格子，代表观测空间为 5\\*5 的离散网格\n",
    "- 机器人（Agent）：可以在在网格中移动，是我们主要控制的对象。\n",
    "- 垃圾 (Trash)：位于 \\[5, 4\\] (假设索引从 1 开始，代码中我们会用 0 索引，即 \\[4, 3\\])。机器人到达此处捡到垃圾，获得 $+5$ 奖励，回合结束。\n",
    "- 充电桩 (Charging Station)：位于 \\[1, 1\\] (代码中为 \\[0, 0\\])。机器人到达此处充电，获得 $+1$ 奖励，回合结束（机器人停止行动）。\n",
    "- 障碍物 (Obstacle)：位于 \\[3, 3\\] (代码中为 \\[2, 2\\])。机器人无法进入此格子。"
   ]
  },
  {
   "cell_type": "markdown",
   "id": "5e0d22cc",
   "metadata": {},
   "source": [
    " 我们可以使用 \n",
    " ```python\n",
    " spaces.Discrete(\n",
    "    n: int | np.integer[Any],\n",
    "    seed: int | np.random.Generator | None = None,\n",
    "    start: int | np.integer[Any] = 0,\n",
    "    )\n",
    " ```\n",
    " 来构建有限个元素的组成空间，例如：\n",
    " ```python\n",
    " from gymnasium.spaces import Discrete\n",
    " observation_space = Discrete(2, seed=42) # {0, 1}\n",
    " observation_space = Discrete(3, start=-1, seed=42)  # {-1, 0, 1}\n",
    " ```\n",
    " 构造一个 $\\left\\{ start, start+1, \\dots, start+n-1 \\right\\}$ 的有限元素的集合，其中内容是离散的。\n",
    "\n",
    " 在本例中，观测空间是 5\\*5 的二维离散格子，动作空间是 上下左右 四个动作，都是离散的情况，这里我们都会采用 spaces.Discrete() 方法来构建状态空间、观测空间（在本例中状态空间=观测空间）和动作空间。\n",
    "\n",
    " 对于其他的空间，我们可以使用 Box、MultiBinary、MultiDiscrete、Text 等，详细请参考：[Fundamental Spaces](https://gymnasium.farama.org/api/spaces/fundamental/#fundamental-spaces)"
   ]
  },
  {
   "cell_type": "code",
   "execution_count": null,
   "id": "09931516",
   "metadata": {},
   "outputs": [],
   "source": []
  }
 ],
 "metadata": {
  "kernelspec": {
   "display_name": ".venv",
   "language": "python",
   "name": "python3"
  },
  "language_info": {
   "name": "python",
   "version": "3.13.0"
  }
 },
 "nbformat": 4,
 "nbformat_minor": 5
}
